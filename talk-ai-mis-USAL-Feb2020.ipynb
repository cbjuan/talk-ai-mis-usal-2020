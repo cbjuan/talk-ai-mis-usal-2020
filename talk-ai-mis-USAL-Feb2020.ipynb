{
 "cells": [
  {
   "cell_type": "markdown",
   "metadata": {
    "slideshow": {
     "slide_type": "slide"
    }
   },
   "source": [
    "# 🤖 Practical Data Science and Machine Learning 🤖\n",
    "\n",
    "**Juan Cruz-Benito** \n",
    "\n",
    "🐦 @_juancb\n",
    "\n",
    "\n",
    "*Master on Intelligent Systems. University of Salamanca.*\n",
    "*27 Feb 2020*"
   ]
  },
  {
   "cell_type": "markdown",
   "metadata": {
    "slideshow": {
     "slide_type": "slide"
    }
   },
   "source": [
    "## Who am I?\n",
    "\n",
    "👋 Juan Cruz-Benito \n",
    "\n",
    "- 👨‍🎓 PhD in Computer Engineering by the University of Salamanca\n",
    "- 🏆 National award for Spanish young researchers 2019\n",
    "- 👨‍💻 Senior Software Engineer @ IBM Research Quantum & AI\n",
    "- 🤓 Data Nerd"
   ]
  },
  {
   "cell_type": "markdown",
   "metadata": {
    "slideshow": {
     "slide_type": "slide"
    }
   },
   "source": [
    "## What I'm doing here?"
   ]
  },
  {
   "cell_type": "markdown",
   "metadata": {
    "slideshow": {
     "slide_type": "slide"
    }
   },
   "source": [
    "![alt text](https://community.wolfram.com//c/portal/getImageAttachment?filename=animatedmedium.gif&userId=48754 \"Hans Rosling\")"
   ]
  },
  {
   "cell_type": "markdown",
   "metadata": {
    "heading_collapsed": true,
    "slideshow": {
     "slide_type": "slide"
    }
   },
   "source": [
    "## Let's talk about practical DS and ML\n",
    "\n",
    "Probably, you have been reading a lot about AI, Big Data, etc., but are you able to apply it on a real research project?"
   ]
  },
  {
   "cell_type": "markdown",
   "metadata": {
    "slideshow": {
     "slide_type": "slide"
    }
   },
   "source": [
    "## Yes ✅\n",
    "\n",
    "I'm going to talk about neural networks, deep learning, machine learning, and so on. \n",
    "\n",
    "Yes, I'm going to talk (less) about statistics and other _classical_ approaches, too.\n",
    "\n",
    "And YES, probably the following contents are opinionated."
   ]
  },
  {
   "cell_type": "markdown",
   "metadata": {
    "slideshow": {
     "slide_type": "slide"
    }
   },
   "source": [
    "## Some concepts firts 📚\n",
    "\n",
    "- What is Data Science? \n",
    "- What is DL?\n",
    "- What is ML?\n",
    "- What is AI?"
   ]
  },
  {
   "cell_type": "markdown",
   "metadata": {
    "slideshow": {
     "slide_type": "subslide"
    }
   },
   "source": [
    "## What is Data Science? \n",
    "\n",
    "Data science is an inter-disciplinary field that uses scientific methods, processes, algorithms and systems to extract knowledge and insights from structured and unstructured data [1].\n",
    "\n",
    "Data science is a \"concept to unify statistics, data analysis, machine learning and their related methods\" to \"understand and analyze actual phenomena\" with data [2]."
   ]
  },
  {
   "cell_type": "markdown",
   "metadata": {
    "slideshow": {
     "slide_type": "subslide"
    }
   },
   "source": [
    "## What is Deep Learning?\n",
    "\n",
    "Deep learning (also known as deep structured learning or differential programming) is part of a broader family of machine learning methods based on artificial neural networks with representation learning. Learning can be supervised, semi-supervised or unsupervised [3-5]."
   ]
  },
  {
   "cell_type": "markdown",
   "metadata": {
    "slideshow": {
     "slide_type": "subslide"
    }
   },
   "source": [
    "## What is Machine Learning?\n",
    "\n",
    "Machine learning (ML) is the scientific study of algorithms and statistical models that computer systems use to perform a specific task without using explicit instructions, relying on patterns and inference instead. \n",
    "\n",
    "It is seen as a subset of artificial intelligence. Machine learning algorithms build a mathematical model based on sample data, known as \"training data\", to make predictions or decisions without being explicitly programmed to perform the task [6, 7]."
   ]
  },
  {
   "cell_type": "markdown",
   "metadata": {
    "slideshow": {
     "slide_type": "subslide"
    }
   },
   "source": [
    "## What is Artificial Intelligence?\n",
    "\n",
    "\"the designing and building of intelligent agents that receive percepts from the environment and take actions that affect that environment\" [8]."
   ]
  },
  {
   "cell_type": "markdown",
   "metadata": {
    "slideshow": {
     "slide_type": "subslide"
    }
   },
   "source": [
    "### Major goals of AI\n",
    "\n",
    "- Knowledge reasoning\n",
    "- Planning\n",
    "- Machine learning\n",
    "- Natural language processing\n",
    "- Computer vision\n",
    "- Robotics\n",
    "- Artificial general intelligence"
   ]
  },
  {
   "cell_type": "markdown",
   "metadata": {
    "slideshow": {
     "slide_type": "subslide"
    }
   },
   "source": [
    "### Common points of view (mostly wrong)\n",
    "\n",
    "Most people assume that statistics and machine learning are only related to fitting (math) models.\n",
    "\n",
    "Most (illiterate) people assume that AI === neural networks"
   ]
  },
  {
   "cell_type": "markdown",
   "metadata": {
    "slideshow": {
     "slide_type": "subslide"
    }
   },
   "source": [
    "## Relationship between all of those concepts\n",
    "\n",
    "![alt text](https://i.pinimg.com/564x/4b/a7/fd/4ba7fdd341cd5140491090fa7fabd0e3.jpg \"Relationship DS, DL, ML, AI\")\n",
    "\n",
    "Source. https://www.corpnce.com/category/artificial-intelligence/"
   ]
  },
  {
   "cell_type": "markdown",
   "metadata": {
    "slideshow": {
     "slide_type": "slide"
    }
   },
   "source": [
    "# Ok, and now what? 🤷‍♀️🤷‍♂️\n",
    "\n",
    "Let's talk about methods 👩‍🔬, tools ⚒️, resources ✨, courses 🎓, examples 🏗️ , etc."
   ]
  },
  {
   "cell_type": "markdown",
   "metadata": {
    "slideshow": {
     "slide_type": "subslide"
    }
   },
   "source": [
    "## To do so, we're going to focus on some areas\n",
    "\n",
    "- Classification & Clustering\n",
    "- Computer Vision\n",
    "- Natural Language Processing\n",
    "- Reinforcement Learning"
   ]
  },
  {
   "cell_type": "markdown",
   "metadata": {
    "slideshow": {
     "slide_type": "slide"
    }
   },
   "source": [
    "## Classification & Clustering 🎯"
   ]
  },
  {
   "cell_type": "markdown",
   "metadata": {
    "slideshow": {
     "slide_type": "subslide"
    }
   },
   "source": [
    "## Classification & Clustering 🎯\n",
    "\n",
    "In machine learning and statistics, classification is the problem of identifying to which of a set of categories (sub-populations) a new observation belongs, on the basis of a training set of data containing observations (or instances) whose category membership is known [9]\n",
    "\n",
    "Classification is considered an instance of supervised learning, i.e., learning where a training set of correctly identified observations is available. The corresponding unsupervised procedure is known as **clustering**, and involves grouping data into categories based on some measure of inherent similarity or distance [9]. "
   ]
  },
  {
   "cell_type": "markdown",
   "metadata": {
    "slideshow": {
     "slide_type": "subslide"
    }
   },
   "source": [
    "### Classification. Methods & algorithms 👩‍🔬\n",
    "\n",
    "- Linear classifiers \n",
    "  - Fisher's linear discriminant\n",
    "  - logistic regression\n",
    "  - Naive Bayes classifier\n",
    "  - Perceptron\n",
    "- Support vector machines\n",
    "  - Least squares support vector machines\n",
    "- Quadratic classifiers"
   ]
  },
  {
   "cell_type": "markdown",
   "metadata": {
    "slideshow": {
     "slide_type": "subslide"
    }
   },
   "source": [
    "### Classification. Methods & algorithms 👩‍🔬\n",
    "\n",
    "- Kernel estimation\n",
    "  - k-nearest neighbor\n",
    "- Boosting (meta-algorithm)\n",
    "- Decision trees\n",
    "  - Random forests\n",
    "- Neural networks\n",
    "- Learning vector quantization"
   ]
  },
  {
   "cell_type": "markdown",
   "metadata": {
    "slideshow": {
     "slide_type": "subslide"
    }
   },
   "source": [
    "### Clustering. Methods & algorithms 👩‍🔬\n",
    "\n",
    "- Centroid-based (K-means)\n",
    "- Connectivity-based (hierarchical clustering)\n",
    "- Distribution-based clustering\n",
    "- Density-based clustering"
   ]
  },
  {
   "cell_type": "markdown",
   "metadata": {
    "slideshow": {
     "slide_type": "subslide"
    }
   },
   "source": [
    "### Classification & Clustering. Methods & algorithms 👩‍🔬\n",
    "\n",
    "**My favourite options**: \n",
    "\n",
    "- Random forests (classification)\n",
    "- XGBoost (classification)\n",
    "- Hierarchical clustering (clustering)"
   ]
  },
  {
   "cell_type": "markdown",
   "metadata": {
    "slideshow": {
     "slide_type": "subslide"
    }
   },
   "source": [
    "### Classification & Clustering. Recommended tools ⚒️\n",
    "\n",
    "For almost anything related to classification, clustering, regressions, etc.: **Scikit-learn** https://scikit-learn.org/stable/\n",
    "\n",
    "For XGBoost and Gradient Boosting-related algorithms, the original XGBoost package: https://xgboost.readthedocs.io/en/latest/"
   ]
  },
  {
   "cell_type": "markdown",
   "metadata": {
    "slideshow": {
     "slide_type": "subslide"
    }
   },
   "source": [
    "### Classification & Clustering. Resources ✨\n",
    "\n",
    "- Scikit-learn user guide: https://scikit-learn.org/stable/user_guide.html\n",
    "- Kaggle course on Intro to Machine Learning: https://www.kaggle.com/learn/intro-to-machine-learning\n",
    "- Fastai's course: Introduction to Machine Learning for Coders! https://course18.fast.ai/ml.html"
   ]
  },
  {
   "cell_type": "markdown",
   "metadata": {
    "slideshow": {
     "slide_type": "subslide"
    }
   },
   "source": [
    "### Classification & Clustering. Examples 🏗️\n",
    "\n",
    "- Random Forests & Hierarchical Clustering: [github.com/cbjuan/paper-ieeeAccess-2017](https://github.com/cbjuan/paper-ieeeAccess-2017/blob/master/machinelearning-results.ipynb)\n",
    "- XGBoost: [github.com/datalabusal2018/MachineLearningTest/](https://github.com/datalabusal2018/MachineLearningTest/blob/juancb/DataLab%20ML%20-%20XGBoost.ipynb)"
   ]
  },
  {
   "cell_type": "markdown",
   "metadata": {
    "slideshow": {
     "slide_type": "slide"
    }
   },
   "source": [
    "## Computer Vision 👀"
   ]
  },
  {
   "cell_type": "markdown",
   "metadata": {
    "slideshow": {
     "slide_type": "subslide"
    }
   },
   "source": [
    "## Computer Vision 👀\n",
    "\n",
    "Computer vision is an interdisciplinary scientific field that deals with how computers can be made to gain high-level understanding from digital images or videos. From the perspective of engineering, it seeks to automate tasks that the human visual system can do [10-12]."
   ]
  },
  {
   "cell_type": "markdown",
   "metadata": {
    "slideshow": {
     "slide_type": "subslide"
    }
   },
   "source": [
    "### Computer Vision. Typical tasks ✔️\n",
    "\n",
    "- Recognition\n",
    "- Motion analysis\n",
    "- Scene reconstruction\n",
    "- Image restoration\n"
   ]
  },
  {
   "cell_type": "markdown",
   "metadata": {
    "slideshow": {
     "slide_type": "subslide"
    }
   },
   "source": [
    "### Computer vision. Methods & algorithms 👩‍🔬\n",
    "\n",
    "- Recognition\n",
    "  - Object recognition (object classification)\n",
    "  - Identification\n",
    "  - Detection\n",
    "  \n",
    "  Current best approaches:\n",
    "  - Convolutional neural networks (or other specialized NNs)\n",
    "  - OCR\n",
    "  "
   ]
  },
  {
   "cell_type": "markdown",
   "metadata": {
    "slideshow": {
     "slide_type": "subslide"
    }
   },
   "source": [
    "### Computer vision. Methods & algorithms 👩‍🔬\n",
    "\n",
    "- Motion analysis (motion estimation)\n",
    "- Scene reconstruction (from images or videos, build 3D environments)\n",
    "- Image restoration \n",
    "\n",
    "Current research areas: applying deep learning to them"
   ]
  },
  {
   "cell_type": "markdown",
   "metadata": {
    "slideshow": {
     "slide_type": "subslide"
    }
   },
   "source": [
    "### Classification & Clustering. Recommended tools ⚒️\n",
    "\n",
    "To get into all of those things, especially in detection, I recommend FastAI https://www.fast.ai/\n",
    "\n",
    "If you want to play with image restoration, check out DeOldify https://github.com/jantic/DeOldify\n",
    "\n",
    "If you want to go deeper, build your own NNs using FastAI, PyTorch (https://pytorch.org/) or Tensorflow (https://www.tensorflow.org/) / Keras (https://keras.io/)"
   ]
  },
  {
   "cell_type": "markdown",
   "metadata": {
    "slideshow": {
     "slide_type": "subslide"
    }
   },
   "source": [
    "### Computer Vision. Resources ✨\n",
    "\n",
    "- FastAI course on Practical Deep Learning for Coders https://course.fast.ai/\n",
    "- PyTorch tutorial for beginners: Transfer Learning for Computer Vision Tutorial https://pytorch.org/tutorials/beginner/transfer_learning_tutorial.html"
   ]
  },
  {
   "cell_type": "markdown",
   "metadata": {
    "slideshow": {
     "slide_type": "subslide"
    }
   },
   "source": [
    "### Computer Vision. Examples 🏗️\n",
    "\n",
    "- Image classification (pets): https://github.com/fastai/course-v3/blob/master/nbs/dl1/lesson1-pets.ipynb\n",
    "- Head pose estimation via regression: https://github.com/fastai/course-v3/blob/master/nbs/dl1/lesson3-head-pose.ipynb"
   ]
  },
  {
   "cell_type": "markdown",
   "metadata": {
    "slideshow": {
     "slide_type": "slide"
    }
   },
   "source": [
    "## Natural Language Processing 📖"
   ]
  },
  {
   "cell_type": "markdown",
   "metadata": {
    "slideshow": {
     "slide_type": "subslide"
    }
   },
   "source": [
    "## Natural Language Processing 📖\n",
    "\n",
    "NLP is a principled approach to processing human languages. Formally, it is a subfield of Artificial Intelligence (AI) that refers to computational approaches to process, understand, and generate human languages. It is a subfield of AI because processing language is considered to be a huge part of human intelligence. Use of language is arguably the most salient skill that separates humans from other animals [13]."
   ]
  },
  {
   "cell_type": "markdown",
   "metadata": {
    "slideshow": {
     "slide_type": "subslide"
    }
   },
   "source": [
    "### NLP. Tasks and areas ✔️\n",
    "\n",
    "- Syntax\n",
    "  - Lemmatization\n",
    "  - Morphological segmentation\n",
    "  - Part-of-speech tagging\n",
    "  - Parsing\n",
    "  - Sentence breaking (boundary disambiguation)\n",
    "  - Stemming\n",
    "  - Terminology extraction\n",
    "  - ..."
   ]
  },
  {
   "cell_type": "markdown",
   "metadata": {
    "slideshow": {
     "slide_type": "subslide"
    }
   },
   "source": [
    "### NLP. Tasks and areas ✔️\n",
    "\n",
    "- Semantics\n",
    "  - Machine translation\n",
    "  - Natural language generation / understanding\n",
    "  - Question answering\n",
    "  - Relationship extraction\n",
    "  - Sentiment analysis\n",
    "  - Topic segmentation and recognition\n",
    "  - Word sense disambiguation\n",
    "  - ... "
   ]
  },
  {
   "cell_type": "markdown",
   "metadata": {
    "slideshow": {
     "slide_type": "subslide"
    }
   },
   "source": [
    "### NLP. Tasks and areas ✔️\n",
    "- Discourse\n",
    "  - Automatic summarization\n",
    "  - Discourse analysis\n",
    " \n",
    "- Speech\n",
    "  - Speech recognition\n",
    "  - Speech segmentation\n",
    "  - Text-to-speech\n",
    "\n",
    "- Dialogue"
   ]
  },
  {
   "cell_type": "markdown",
   "metadata": {
    "slideshow": {
     "slide_type": "subslide"
    }
   },
   "source": [
    "## NLP. Methods & algorithms 👩‍🔬\n",
    "\n",
    "- Rule based (heuristics)\n",
    "- Statistical NLP\n",
    "    - Deep Learning-based NLP"
   ]
  },
  {
   "cell_type": "markdown",
   "metadata": {
    "slideshow": {
     "slide_type": "subslide"
    }
   },
   "source": [
    "### NLP. Recommended tools ⚒️\n",
    "\n",
    "To get into all of those things, I recommend SpaCy https://spacy.io/\n",
    "\n",
    "Many other big libraries: StandfordNLP (https://stanfordnlp.github.io/stanfordnlp/), NLTK (https://www.nltk.org/), AllenAI NLP (https://allennlp.org/), FastAI, HuggingFace Transformers (https://github.com/huggingface/transformers), etc.\n"
   ]
  },
  {
   "cell_type": "markdown",
   "metadata": {
    "slideshow": {
     "slide_type": "subslide"
    }
   },
   "source": [
    "### NLP. Examples 🏗️\n",
    "\n",
    "- Get topics via LDA. Using SpaCy: https://github.com/felicidadgsanchez/visual-literacy-survey-2018/blob/master/notebooks/prosume_all.ipynb\n",
    "- Language generation via FastAI: https://github.com/fastai/course-v3/blob/master/nbs/dl1/lesson3-imdb.ipynb\n",
    "- HuggingFace. Write with Transformers: https://transformer.huggingface.co/"
   ]
  },
  {
   "cell_type": "markdown",
   "metadata": {
    "slideshow": {
     "slide_type": "slide"
    }
   },
   "source": [
    "## Reinforcement Learning 🎮"
   ]
  },
  {
   "cell_type": "markdown",
   "metadata": {
    "slideshow": {
     "slide_type": "subslide"
    }
   },
   "source": [
    "## Reinforcement Learning 🎮\n",
    "\n",
    "Reinforcement learning (RL) is the problem faced by an agent that must learn behavior through trial-and-error interactions with a dynamic environment [14].\n",
    "\n",
    "Reinforcement learning is one of three basic machine learning paradigms, alongside supervised learning and unsupervised learning. "
   ]
  },
  {
   "cell_type": "markdown",
   "metadata": {
    "slideshow": {
     "slide_type": "subslide"
    }
   },
   "source": [
    "### Reinforcement Learning. Methods & algorithms 👩‍🔬\n",
    "\n",
    "- Monte Carlo\n",
    "- Q-learning\n",
    "- SARSA\n",
    "- DQN\n",
    "- DDPG\n",
    "- A3C\n",
    "- Others based on Deep Learning, etc. "
   ]
  },
  {
   "cell_type": "markdown",
   "metadata": {
    "slideshow": {
     "slide_type": "subslide"
    }
   },
   "source": [
    "### Reinforcement Learning. Recommended tools ⚒️\n",
    "\n",
    "- OpenAI Gym https://gym.openai.com/\n",
    "- Unity ML Agents https://github.com/Unity-Technologies/ml-agents"
   ]
  },
  {
   "cell_type": "markdown",
   "metadata": {
    "slideshow": {
     "slide_type": "subslide"
    }
   },
   "source": [
    "### Reinforcement Learning. Examples 🏗️\n",
    "\n",
    "- DeepMind Alpha Go https://deepmind.com/research/case-studies/alphago-the-story-so-far\n",
    "- Unity ML Agents https://unity3d.com/machine-learning/\n",
    "- Andrej Karpathy. Deep Reinforcement Learning: Pong from Pixels https://karpathy.github.io/2016/05/31/rl/"
   ]
  },
  {
   "cell_type": "markdown",
   "metadata": {
    "slideshow": {
     "slide_type": "slide"
    }
   },
   "source": [
    "## General resources and advices\n",
    "\n",
    "- Take **a lot of care** about data cleaning and preparation. In 🐍 -> 🐼\n",
    "- Practice EDA (Exploratory Data Analysis). In 🐍 -> 🐼\n",
    "- Visualize your data and models\n",
    "  - Pandas, Seaborn, Plotly, etc.\n",
    "- Visualize your trainings\n",
    "  - Tensorboard\n",
    "  - FastAI \n",
    "  - Comet ML\n",
    "  - Neptune.ai"
   ]
  },
  {
   "cell_type": "markdown",
   "metadata": {
    "slideshow": {
     "slide_type": "subslide"
    }
   },
   "source": [
    "## General resources and advices\n",
    "\n",
    "- Prepare properly datasets (training, validation, test)\n",
    "- Take care about validation against benchmarks, etc.\n",
    "- Consider the resources needed for training & developing 💵?\n",
    "- Consider the resources needed for deploying your solutions/models 💵?"
   ]
  },
  {
   "cell_type": "markdown",
   "metadata": {
    "slideshow": {
     "slide_type": "slide"
    }
   },
   "source": [
    "## Conclusions & thoughts\n",
    "\n",
    "There is **a lot to do** in DS, ML, DL, AI, etc. They are hot topics, and they will be for a time.\n",
    "\n",
    "There are different areas of research depending on whether you want to do theoretical research or applied research\n",
    "\n",
    "There are a lot of interesting problems to solve. You should find out what motivates you"
   ]
  },
  {
   "cell_type": "markdown",
   "metadata": {
    "slideshow": {
     "slide_type": "slide"
    }
   },
   "source": [
    "## References:\n",
    "[1] Dhar, V. (2013). Data science and prediction. Communications of the ACM, 56(12), 64-73.\n",
    "\n",
    "[2] Hayashi, C. (1998). What is data science? Fundamental concepts and a heuristic example. In Data science, classification, and related methods (pp. 40-51). Springer, Tokyo.\n",
    "\n",
    "[3] Bengio, Y.; Courville, A.; Vincent, P. (2013). \"Representation Learning: A Review and New Perspectives\". IEEE Transactions on Pattern Analysis and Machine Intelligence. 35 (8): 1798–1828. arXiv:1206.5538. doi:10.1109/tpami.2013.50. "
   ]
  },
  {
   "cell_type": "markdown",
   "metadata": {
    "slideshow": {
     "slide_type": "slide"
    }
   },
   "source": [
    "## References:\n",
    "\n",
    "[4] Schmidhuber, J. (2015). \"Deep Learning in Neural Networks: An Overview\". Neural Networks. 61: 85–117. arXiv:1404.7828. doi:10.1016/j.neunet.2014.09.003. \n",
    "\n",
    "[5] Bengio, Yoshua; LeCun, Yann; Hinton, Geoffrey (2015). \"Deep Learning\". Nature. 521 (7553): 436–444. Bibcode:2015Natur.521..436L. doi:10.1038/nature14539. \n",
    "\n",
    "[6] Koza, John R.; Bennett, Forrest H.; Andre, David; Keane, Martin A. (1996). Automated Design of Both the Topology and Sizing of Analog Electrical Circuits Using Genetic Programming. Artificial Intelligence in Design '96. Springer, Dordrecht. pp. 151–170. "
   ]
  },
  {
   "cell_type": "markdown",
   "metadata": {
    "slideshow": {
     "slide_type": "slide"
    }
   },
   "source": [
    "## References\n",
    "\n",
    "\n",
    "[7] Bishop, C. M. (2006), Pattern Recognition and Machine Learning, Springer, ISBN 978-0-387-31073-2\n",
    "\n",
    "[8] Russell, S. J., & Norvig, P. (2016). Artificial intelligence: a modern approach. Malaysia; Pearson Education Limited.\n",
    "\n",
    "[9] Alpaydin, Ethem (2010). Introduction to Machine Learning. MIT Press. p. 9. ISBN 978-0-262-01243-0."
   ]
  },
  {
   "cell_type": "markdown",
   "metadata": {
    "slideshow": {
     "slide_type": "slide"
    }
   },
   "source": [
    "## References\n",
    "\n",
    "[10] Dana H. Ballard; Christopher M. Brown (1982). Computer Vision. Prentice Hall. ISBN 978-0-13-165316-0.\n",
    "\n",
    "[11] Huang, T. (1996-11-19). Vandoni, Carlo, E (ed.). Computer Vision : Evolution And Promise (PDF). 19th CERN School of Computing. Geneva: CERN. pp. 21–25. doi:10.5170/CERN-1996-008.21. ISBN 978-9290830955.\n",
    "\n",
    "[12] Milan Sonka; Vaclav Hlavac; Roger Boyle (2008). Image Processing, Analysis, and Machine Vision. Thomson. ISBN 978-0-495-08252-1.\n",
    "\n",
    "[13] Masato Hagiwara (2020). Real-World Natural Language Processing. https://www.manning.com/books/real-world-natural-language-processing"
   ]
  },
  {
   "cell_type": "markdown",
   "metadata": {
    "slideshow": {
     "slide_type": "slide"
    }
   },
   "source": [
    "## References\n",
    "\n",
    "[14]  Kaelbling, Leslie P.; Littman, Michael L.; Moore, Andrew W. (1996). \"Reinforcement Learning: A Survey\". Journal of Artificial Intelligence Research. 4: 237–285. arXiv:cs/9605103. "
   ]
  },
  {
   "cell_type": "markdown",
   "metadata": {
    "slideshow": {
     "slide_type": "slide"
    }
   },
   "source": [
    "## Links\n",
    "\n",
    "- Machine-Learning-Tokyo / AI_Curriculum - https://github.com/Machine-Learning-Tokyo/AI_Curriculum\n",
    "- HuggingFace. Write with Transformers. https://transformer.huggingface.co/\n",
    "- An opinionated guide to ML Research http://joschu.net/blog/opinionated-guide-ml-research.html"
   ]
  },
  {
   "cell_type": "markdown",
   "metadata": {
    "slideshow": {
     "slide_type": "slide"
    }
   },
   "source": [
    "## Links\n",
    "\n",
    "- How to build SOTA conversational AI with transfer learning https://medium.com/huggingface/how-to-build-a-state-of-the-art-conversational-ai-with-transfer-learning-2d818ac26313\n",
    "- HuggingFace Transformers https://github.com/huggingface/transformers\n",
    "- Jay Alammar's blog https://jalammar.github.io/\n",
    "- Seb Ruder. 10 ML & NLP Research Highlights of 2019 https://ruder.io/research-highlights-2019/"
   ]
  },
  {
   "cell_type": "markdown",
   "metadata": {
    "slideshow": {
     "slide_type": "slide"
    }
   },
   "source": [
    "## Links\n",
    "\n",
    "- Sebastian Raschka Deep Learning Models https://github.com/rasbt/deeplearning-models\n",
    "- CS224N: Natural Language Processing with Deep Learning @ Stanford NLP https://www.youtube.com/playlist?list=PLoROMvodv4rOhcuXMZkNm7j3fVwBBY42z&utm_campaign=NLP+News&utm_medium=email&utm_source=Revue+newsletter"
   ]
  },
  {
   "cell_type": "markdown",
   "metadata": {
    "slideshow": {
     "slide_type": "slide"
    }
   },
   "source": [
    "## Link to presentation and materials\n",
    "\n",
    "https://github.com/cbjuan/talk-ai-mis-usal-2020"
   ]
  },
  {
   "cell_type": "markdown",
   "metadata": {
    "slideshow": {
     "slide_type": "slide"
    }
   },
   "source": [
    "## Questions?\n",
    "\n",
    "![alt text](https://media.giphy.com/media/L7ONYIPYXyc8/giphy.gif \"Questions\")\n",
    "\n"
   ]
  },
  {
   "cell_type": "markdown",
   "metadata": {
    "slideshow": {
     "slide_type": "slide"
    }
   },
   "source": [
    "# 🤖 Practical Data Science and Machine Learning 🤖\n",
    "\n",
    "**Juan Cruz-Benito** \n",
    "\n",
    "🐦 @_juancb\n",
    "\n",
    "\n",
    "*Master on Intelligent Systems. University of Salamanca.*\n",
    "*27 Feb 2020*"
   ]
  }
 ],
 "metadata": {
  "celltoolbar": "Slideshow",
  "kernelspec": {
   "display_name": "Python 3",
   "language": "python",
   "name": "python3"
  },
  "language_info": {
   "codemirror_mode": {
    "name": "ipython",
    "version": 3
   },
   "file_extension": ".py",
   "mimetype": "text/x-python",
   "name": "python",
   "nbconvert_exporter": "python",
   "pygments_lexer": "ipython3",
   "version": "3.7.6"
  }
 },
 "nbformat": 4,
 "nbformat_minor": 4
}
